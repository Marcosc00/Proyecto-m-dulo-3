{
 "cells": [
  {
   "cell_type": "markdown",
   "metadata": {},
   "source": [
    "## Proyecto 3. "
   ]
  },
  {
   "cell_type": "markdown",
   "metadata": {},
   "source": [
    "### Generación de rendimientos mediante capitalización simple, compuesta y continua en diversos fondos de inversión."
   ]
  },
  {
   "cell_type": "markdown",
   "metadata": {},
   "source": [
    "**Objetivo general:**\n",
    "+ Simular los rendimientos generados por un capital inicial por diferentes métodos de capitalización.  \n",
    "\n",
    "**Objetivos específicos:**\n",
    "+ Investigar fondos de inversión que generen altos rendimientos.\n",
    "+ Desarrollar funciones que definan la capitalización simple, la capitalización compuesta y la capitalización continua.\n",
    "+ Comparar los resultados obtenidos y definir el mejor fondo de inversión."
   ]
  },
  {
   "cell_type": "markdown",
   "metadata": {},
   "source": [
    "**Modelo del problema**"
   ]
  },
  {
   "cell_type": "markdown",
   "metadata": {},
   "source": [
    "Para la generación de rendimientos por interés existen dos métodos: el interés simple y el interés compuesto. Ambos métodos son representados por la siguientes ecuaciones:\n",
    "\n",
    "$$Interés Simple C_K=C_0(1+ki).$$\n",
    "\n",
    "$$Interés Compuesto= C_K=C_0(1+i)^k.$$\n",
    "\n",
    "En donde $C_0$ representa el capital inicial a invertir, la $i$ indica la tasa de interés o tasa de rendimiento, la $k$ simboliza el número de periodos y $C_k$ representa el capital obtenido al término del periodo determinado. \n",
    "\n",
    "De este último se deriva el interés compuesto continuo, el cual te proporciona un tiempo exacto a partir del interés, el capital inicial y el capital objetivo (capital esperado,$C_K$). Dicho método esta representado por la siguiente ecuación diferencial de primer orden:\n",
    "\n",
    "$$\\frac{d C(t)}{dt}=r\\; C(t),$$\n",
    "\n",
    "Cuya simbología es la misma que los modelos anteriores y $C(t)$ es el capital objetivo que depende del tiempo en periodos homogeneos.  \n",
    "\n",
    "Para aplicar la ecuación diferencial correctamente se debe de calcular su solución analítica, la cual es:\n",
    "\n",
    "$$C(t) = C_0e^{rt}$$\n"
   ]
  },
  {
   "cell_type": "markdown",
   "metadata": {},
   "source": [
    "**Problema**"
   ]
  },
  {
   "cell_type": "markdown",
   "metadata": {},
   "source": [
    "> Juan tiene un capital inicial de 3,500,000 y quiere duplicar su capital como rendimiento, es decir, lograr un total de 7,000,000. El pone su dinero en diferentes fondos de inversion a diferentes tasas y plazos, con el fin de saber cual es el mejor. ¿Cuánto tiempo se debe dejar invertido el dinero para lograr dicho rendimiento?¿Qué fondo es el mejor?¿Cuánto gana por tema de intereses?"
   ]
  },
  {
   "cell_type": "markdown",
   "metadata": {},
   "source": [
    "**Resolución problema**"
   ]
  },
  {
   "cell_type": "code",
   "execution_count": 1,
   "metadata": {},
   "outputs": [],
   "source": [
    "from scipy.integrate import odeint\n",
    "import numpy as np\n",
    "from ipywidgets import *\n",
    "%matplotlib inline\n",
    "import matplotlib.pyplot as plt"
   ]
  },
  {
   "cell_type": "markdown",
   "metadata": {},
   "source": [
    "En un principio el pone su dinero en el fondo de inversión VECTUSD, que paga una tasa del 9.59% anual.Donde prueba su capitalización por interés simple, compuesto y continua."
   ]
  },
  {
   "cell_type": "code",
   "execution_count": 2,
   "metadata": {},
   "outputs": [
    {
     "name": "stdout",
     "output_type": "stream",
     "text": [
      "El numero de periodos es : 126 y el capital final es: 7024325.0\n"
     ]
    }
   ],
   "source": [
    "# Capitalización por interés simple\n",
    "c0=3500000\n",
    "c_final=7000000\n",
    "i=.0959/12\n",
    "\n",
    "# Despejar k tal que C_k=meta\n",
    "k=np.ceil((((c_final/c0)-1))/i)\n",
    "k=k.astype(int)\n",
    "ck=c0*(1+k*i)\n",
    "ck=round(ck,2)\n",
    "\n",
    "# Imprimimos respuesta en pantalla\n",
    "print('El numero de periodos es :',k,'y el capital final es:',ck)"
   ]
  },
  {
   "cell_type": "code",
   "execution_count": 3,
   "metadata": {},
   "outputs": [
    {
     "name": "stdout",
     "output_type": "stream",
     "text": [
      "El numero de periodos que se debe dejar invertido el dinero es 88 al final del periodo 88 el capital es 7051457.84\n"
     ]
    }
   ],
   "source": [
    "#Interés compuesto\n",
    "c0=3500000\n",
    "c_meta=7000000\n",
    "i=0.0959/12\n",
    "k=np.ceil(np.log(c_meta/c0)/np.log(1+i))\n",
    "k=k.astype(int)\n",
    "\n",
    "ck=c0*(1+i)**k\n",
    "ck=round(ck,2)\n",
    "\n",
    "print('El numero de periodos que se debe dejar invertido el dinero es',k,'al final del periodo',k,'el capital es',ck)"
   ]
  },
  {
   "cell_type": "code",
   "execution_count": 4,
   "metadata": {},
   "outputs": [],
   "source": [
    "# Modelo de capitalización continua\n",
    "def cap_continuo(C,t,r):\n",
    "    return r*C"
   ]
  },
  {
   "cell_type": "code",
   "execution_count": 5,
   "metadata": {},
   "outputs": [
    {
     "data": {
      "application/vnd.jupyter.widget-view+json": {
       "model_id": "530e177a2a044ea287d2d1beb1ef6170",
       "version_major": 2,
       "version_minor": 0
      },
      "text/plain": [
       "interactive(children=(IntSlider(value=5200000, description='meta', max=7000000, min=3500000, step=100000), But…"
      ]
     },
     "metadata": {},
     "output_type": "display_data"
    }
   ],
   "source": [
    "i=0.0959/12\n",
    "def interes_continuo(C_0, meta, r):\n",
    "    # Despejamos t\n",
    "    t=np.log(meta/C_0)/r\n",
    "    # Vector de periodos\n",
    "    tt=np.linspace(0,t,100)\n",
    "    # Vector de capitales por periodo\n",
    "    CC=odeint(cap_continuo,C_0,tt,args=(r,))\n",
    "    # Gráfico\n",
    "    plt.figure(num=1); plt.clf()                # Figura 1, borrar lo que contenga\n",
    "    plt.plot(tt, CC,'-',linewidth=3.0)          # Se grafica la evolución de los capitales\n",
    "    plt.plot(tt,meta*np.ones(len(tt)),'--k')    # Se grafica la meta\n",
    "    plt.xlabel('t')                             # Etiqueta eje x\n",
    "    plt.ylabel('C(t)')                          # Etiqueta eje y\n",
    "    plt.grid(True)                              # Malla en la gráfica\n",
    "    plt.show()                                  # Mostrar la figura\n",
    "    print(\"El tiempo que se debe dejar invertido el dinero para llegar a la meta de \", meta,\" es \", t, \" meses.\", sep=\"\")\n",
    "    \n",
    "interact_manual(interes_continuo, C_0=fixed(3500000), meta=(3500000,7000000,100000), r=fixed(np.log(1+i)));"
   ]
  },
  {
   "cell_type": "markdown",
   "metadata": {},
   "source": [
    "Ahora, el quiere comparar dicho rendimiento con el fondo de inversión ACTIG+B-3 que paga una tasa de interés del 8.30% anual"
   ]
  },
  {
   "cell_type": "code",
   "execution_count": 6,
   "metadata": {},
   "outputs": [
    {
     "name": "stdout",
     "output_type": "stream",
     "text": [
      "El numero de periodos es : 145 y el capital final es: 7010208.33\n"
     ]
    }
   ],
   "source": [
    "# Capitalización por interés simple\n",
    "c0=3500000\n",
    "c_final=7000000\n",
    "i=0.0830/12\n",
    "\n",
    "# Despejar k tal que C_k=meta\n",
    "k=np.ceil((((c_final/c0)-1))/i)\n",
    "k=k.astype(int)\n",
    "ck=c0*(1+k*i)\n",
    "ck=round(ck,2)\n",
    "\n",
    "# Imprimimos respuesta en pantalla\n",
    "print('El numero de periodos es :',k,'y el capital final es:',ck)"
   ]
  },
  {
   "cell_type": "code",
   "execution_count": 7,
   "metadata": {},
   "outputs": [
    {
     "name": "stdout",
     "output_type": "stream",
     "text": [
      "El numero de periodos que se debe dejar invertido el dinero es 101 al final del periodo 101 el capital es 7021251.3\n"
     ]
    }
   ],
   "source": [
    "#Interés compuesto\n",
    "c0=3500000\n",
    "c_meta=7000000\n",
    "i=0.0830/12\n",
    "k=np.ceil(np.log(c_meta/c0)/np.log(1+i))\n",
    "k=k.astype(int)\n",
    "\n",
    "ck=c0*(1+i)**k\n",
    "ck=round(ck,2)\n",
    "\n",
    "print('El numero de periodos que se debe dejar invertido el dinero es',k,'al final del periodo',k,'el capital es',ck)"
   ]
  },
  {
   "cell_type": "code",
   "execution_count": 8,
   "metadata": {},
   "outputs": [],
   "source": [
    "# Modelo de capitalización continua\n",
    "def cap_continuo(C,t,r):\n",
    "    return r*C"
   ]
  },
  {
   "cell_type": "code",
   "execution_count": 9,
   "metadata": {},
   "outputs": [
    {
     "data": {
      "application/vnd.jupyter.widget-view+json": {
       "model_id": "e6fe2476b9f94b7e852c6773c26caf9b",
       "version_major": 2,
       "version_minor": 0
      },
      "text/plain": [
       "interactive(children=(IntSlider(value=5200000, description='meta', max=7000000, min=3500000, step=100000), But…"
      ]
     },
     "metadata": {},
     "output_type": "display_data"
    }
   ],
   "source": [
    "i=0.0830/12\n",
    "def interes_continuo(C_0, meta, r):\n",
    "    # Despejamos t\n",
    "    t=np.log(meta/C_0)/r\n",
    "    # Vector de periodos\n",
    "    tt=np.linspace(0,t,100)\n",
    "    # Vector de capitales por periodo\n",
    "    CC=odeint(cap_continuo,C_0,tt,args=(r,))\n",
    "    # Gráfico\n",
    "    plt.figure(num=1); plt.clf()                # Figura 1, borrar lo que contenga\n",
    "    plt.plot(tt, CC,'-',linewidth=3.0)          # Se grafica la evolución de los capitales\n",
    "    plt.plot(tt,meta*np.ones(len(tt)),'--k')    # Se grafica la meta\n",
    "    plt.xlabel('t')                             # Etiqueta eje x\n",
    "    plt.ylabel('C(t)')                          # Etiqueta eje y\n",
    "    plt.grid(True)                              # Malla en la gráfica\n",
    "    plt.show()                                  # Mostrar la figura\n",
    "    print(\"El tiempo que se debe dejar invertido el dinero para llegar a la meta de \", meta,\" es \", t, \" meses.\", sep=\"\")\n",
    "    \n",
    "interact_manual(interes_continuo, C_0=fixed(3500000), meta=(3500000,7000000,100000), r=fixed(np.log(1+i)));"
   ]
  },
  {
   "cell_type": "markdown",
   "metadata": {},
   "source": [
    "Luego, el quiere comparar nuevamente dicho rendimiento con el fondo de inversión SURCORP BF0 que cuenta con una tasa de interés del 7.90% anual"
   ]
  },
  {
   "cell_type": "code",
   "execution_count": 10,
   "metadata": {},
   "outputs": [
    {
     "name": "stdout",
     "output_type": "stream",
     "text": [
      "El numero de periodos es : 152 y el capital final es: 7002333.33\n"
     ]
    }
   ],
   "source": [
    "# Capitalización por interés simple\n",
    "c0=3500000\n",
    "c_final=7000000\n",
    "i=0.0790/12\n",
    "\n",
    "# Despejar k tal que C_k=meta\n",
    "k=np.ceil((((c_final/c0)-1))/i)\n",
    "k=k.astype(int)\n",
    "ck=c0*(1+k*i)\n",
    "ck=round(ck,2)\n",
    "\n",
    "# Imprimimos respuesta en pantalla\n",
    "print('El numero de periodos es :',k,'y el capital final es:',ck)"
   ]
  },
  {
   "cell_type": "code",
   "execution_count": 11,
   "metadata": {},
   "outputs": [
    {
     "name": "stdout",
     "output_type": "stream",
     "text": [
      "El numero de periodos que se debe dejar invertido el dinero es 106 al final del periodo 106 el capital es 7016814.21\n"
     ]
    }
   ],
   "source": [
    "#Interés compuesto\n",
    "c0=3500000\n",
    "c_meta=7000000\n",
    "i=0.0790/12\n",
    "k=np.ceil(np.log(c_meta/c0)/np.log(1+i))\n",
    "k=k.astype(int)\n",
    "\n",
    "ck=c0*(1+i)**k\n",
    "ck=round(ck,2)\n",
    "\n",
    "print('El numero de periodos que se debe dejar invertido el dinero es',k,'al final del periodo',k,'el capital es',ck)"
   ]
  },
  {
   "cell_type": "code",
   "execution_count": 12,
   "metadata": {},
   "outputs": [],
   "source": [
    "# Modelo de capitalización continua\n",
    "def cap_continuo(C,t,r):\n",
    "    return r*C"
   ]
  },
  {
   "cell_type": "code",
   "execution_count": 13,
   "metadata": {},
   "outputs": [
    {
     "data": {
      "application/vnd.jupyter.widget-view+json": {
       "model_id": "aa1ac8e7c5454592b60ce2e7a75c7dfe",
       "version_major": 2,
       "version_minor": 0
      },
      "text/plain": [
       "interactive(children=(IntSlider(value=5200000, description='meta', max=7000000, min=3500000, step=100000), But…"
      ]
     },
     "metadata": {},
     "output_type": "display_data"
    }
   ],
   "source": [
    "i=0.0790/12\n",
    "def interes_continuo(C_0, meta, r):\n",
    "    # Despejamos t\n",
    "    t=np.log(meta/C_0)/r\n",
    "    # Vector de periodos\n",
    "    tt=np.linspace(0,t,100)\n",
    "    # Vector de capitales por periodo\n",
    "    CC=odeint(cap_continuo,C_0,tt,args=(r,))\n",
    "    # Gráfico\n",
    "    plt.figure(num=1); plt.clf()                # Figura 1, borrar lo que contenga\n",
    "    plt.plot(tt, CC,'-',linewidth=3.0)          # Se grafica la evolución de los capitales\n",
    "    plt.plot(tt,meta*np.ones(len(tt)),'--k')    # Se grafica la meta\n",
    "    plt.xlabel('t')                             # Etiqueta eje x\n",
    "    plt.ylabel('C(t)')                          # Etiqueta eje y\n",
    "    plt.grid(True)                              # Malla en la gráfica\n",
    "    plt.show()                                  # Mostrar la figura\n",
    "    print(\"El tiempo que se debe dejar invertido el dinero para llegar a la meta de \", meta,\" es \", t, \" meses.\", sep=\"\")\n",
    "    \n",
    "interact_manual(interes_continuo, C_0=fixed(3500000), meta=(3500000,7000000,100000), r=fixed(np.log(1+i)));"
   ]
  },
  {
   "cell_type": "markdown",
   "metadata": {},
   "source": [
    "Por último el fondo de inversión de BBVANDQ GB paga una tasa de interés del 6.35% anual"
   ]
  },
  {
   "cell_type": "code",
   "execution_count": 14,
   "metadata": {},
   "outputs": [
    {
     "name": "stdout",
     "output_type": "stream",
     "text": [
      "El numero de periodos es : 189 y el capital final es: 7000437.5\n"
     ]
    }
   ],
   "source": [
    "# Capitalización por interés simple\n",
    "c0=3500000\n",
    "c_final=7000000\n",
    "i=0.0635/12\n",
    "\n",
    "# Despejar k tal que C_k=meta\n",
    "k=np.ceil((((c_final/c0)-1))/i)\n",
    "k=k.astype(int)\n",
    "ck=c0*(1+k*i)\n",
    "ck=round(ck,2)\n",
    "# Imprimimos respuesta en pantalla\n",
    "print('El numero de periodos es :',k,'y el capital final es:',ck)"
   ]
  },
  {
   "cell_type": "code",
   "execution_count": 15,
   "metadata": {},
   "outputs": [
    {
     "name": "stdout",
     "output_type": "stream",
     "text": [
      "El numero de periodos que se debe dejar invertido el dinero es 132 al final del periodo 132 el capital es 7024621.59\n"
     ]
    }
   ],
   "source": [
    "#Interés compuesto\n",
    "c0=3500000\n",
    "c_meta=7000000\n",
    "i=0.0635/12\n",
    "k=np.ceil(np.log(c_meta/c0)/np.log(1+i))\n",
    "k=k.astype(int)\n",
    "\n",
    "ck=c0*(1+i)**k\n",
    "ck=round(ck,2)\n",
    "\n",
    "print('El numero de periodos que se debe dejar invertido el dinero es',k,'al final del periodo',k,'el capital es',ck)"
   ]
  },
  {
   "cell_type": "code",
   "execution_count": 16,
   "metadata": {},
   "outputs": [],
   "source": [
    "# Modelo de capitalización continua\n",
    "def cap_continuo(C,t,r):\n",
    "    return r*C"
   ]
  },
  {
   "cell_type": "code",
   "execution_count": 17,
   "metadata": {},
   "outputs": [
    {
     "data": {
      "application/vnd.jupyter.widget-view+json": {
       "model_id": "24ced3c9a736429d9f38df26477a9a2e",
       "version_major": 2,
       "version_minor": 0
      },
      "text/plain": [
       "interactive(children=(IntSlider(value=5200000, description='meta', max=7000000, min=3500000, step=100000), But…"
      ]
     },
     "metadata": {},
     "output_type": "display_data"
    }
   ],
   "source": [
    "i=0.0635/12\n",
    "def interes_continuo(C_0, meta, r):\n",
    "    # Despejamos t\n",
    "    t=np.log(meta/C_0)/r\n",
    "    # Vector de periodos\n",
    "    tt=np.linspace(0,t,100)\n",
    "    # Vector de capitales por periodo\n",
    "    CC=odeint(cap_continuo,C_0,tt,args=(r,))\n",
    "    # Gráfico\n",
    "    plt.figure(num=1); plt.clf()                # Figura 1, borrar lo que contenga\n",
    "    plt.plot(tt, CC,'-',linewidth=3.0)          # Se grafica la evolución de los capitales\n",
    "    plt.plot(tt,meta*np.ones(len(tt)),'--k')    # Se grafica la meta\n",
    "    plt.xlabel('t')                             # Etiqueta eje x\n",
    "    plt.ylabel('C(t)')                          # Etiqueta eje y\n",
    "    plt.grid(True)                              # Malla en la gráfica\n",
    "    plt.show()                                  # Mostrar la figura\n",
    "    print(\"El tiempo que se debe dejar invertido el dinero para llegar a la meta de \", meta,\" es \", t, \" meses.\", sep=\"\")\n",
    "    \n",
    "interact_manual(interes_continuo, C_0=fixed(3500000), meta=(3500000,7000000,100000), r=fixed(np.log(1+i)));"
   ]
  },
  {
   "cell_type": "markdown",
   "metadata": {},
   "source": [
    "### Tabla excel comparativa"
   ]
  },
  {
   "cell_type": "markdown",
   "metadata": {},
   "source": [
    "A continuación se muestra el rendimiento de cada activo con cada capitalización y una idea visual mas clara de cual fue el comportamiento de estos y su promedio."
   ]
  },
  {
   "cell_type": "code",
   "execution_count": 18,
   "metadata": {},
   "outputs": [],
   "source": [
    "import pandas as pd"
   ]
  },
  {
   "cell_type": "code",
   "execution_count": 20,
   "metadata": {},
   "outputs": [
    {
     "data": {
      "text/html": [
       "<div>\n",
       "<style scoped>\n",
       "    .dataframe tbody tr th:only-of-type {\n",
       "        vertical-align: middle;\n",
       "    }\n",
       "\n",
       "    .dataframe tbody tr th {\n",
       "        vertical-align: top;\n",
       "    }\n",
       "\n",
       "    .dataframe thead th {\n",
       "        text-align: right;\n",
       "    }\n",
       "</style>\n",
       "<table border=\"1\" class=\"dataframe\">\n",
       "  <thead>\n",
       "    <tr style=\"text-align: right;\">\n",
       "      <th></th>\n",
       "      <th>Activos</th>\n",
       "      <th>Periodos IS</th>\n",
       "      <th>Capital Final IS</th>\n",
       "      <th>Promedio IS</th>\n",
       "      <th>Periodos IC</th>\n",
       "      <th>Capital Final IC</th>\n",
       "      <th>Promedio IC</th>\n",
       "      <th>Periodos CC</th>\n",
       "      <th>Capital Final CC</th>\n",
       "      <th>Promedio CC</th>\n",
       "    </tr>\n",
       "  </thead>\n",
       "  <tbody>\n",
       "    <tr>\n",
       "      <th>0</th>\n",
       "      <td>VECTUSD</td>\n",
       "      <td>126</td>\n",
       "      <td>7024325</td>\n",
       "      <td>55749</td>\n",
       "      <td>88</td>\n",
       "      <td>7051458</td>\n",
       "      <td>80130</td>\n",
       "      <td>87.079</td>\n",
       "      <td>7000000</td>\n",
       "      <td>80387</td>\n",
       "    </tr>\n",
       "    <tr>\n",
       "      <th>1</th>\n",
       "      <td>ACTIG+B-3</td>\n",
       "      <td>145</td>\n",
       "      <td>7010208</td>\n",
       "      <td>48346</td>\n",
       "      <td>101</td>\n",
       "      <td>7021251</td>\n",
       "      <td>69517</td>\n",
       "      <td>100.560</td>\n",
       "      <td>7000000</td>\n",
       "      <td>69610</td>\n",
       "    </tr>\n",
       "    <tr>\n",
       "      <th>2</th>\n",
       "      <td>SURCORP BF0</td>\n",
       "      <td>152</td>\n",
       "      <td>7002333</td>\n",
       "      <td>46068</td>\n",
       "      <td>106</td>\n",
       "      <td>7016814</td>\n",
       "      <td>66196</td>\n",
       "      <td>105.630</td>\n",
       "      <td>7000000</td>\n",
       "      <td>66269</td>\n",
       "    </tr>\n",
       "    <tr>\n",
       "      <th>3</th>\n",
       "      <td>BBVANDQ GB</td>\n",
       "      <td>189</td>\n",
       "      <td>7000438</td>\n",
       "      <td>37040</td>\n",
       "      <td>132</td>\n",
       "      <td>7024622</td>\n",
       "      <td>53217</td>\n",
       "      <td>131.330</td>\n",
       "      <td>7000000</td>\n",
       "      <td>53301</td>\n",
       "    </tr>\n",
       "  </tbody>\n",
       "</table>\n",
       "</div>"
      ],
      "text/plain": [
       "       Activos  Periodos IS  Capital Final IS  Promedio IS  Periodos IC  \\\n",
       "0      VECTUSD          126           7024325        55749           88   \n",
       "1    ACTIG+B-3          145           7010208        48346          101   \n",
       "2  SURCORP BF0          152           7002333        46068          106   \n",
       "3   BBVANDQ GB          189           7000438        37040          132   \n",
       "\n",
       "   Capital Final IC  Promedio IC  Periodos CC  Capital Final CC  Promedio CC  \n",
       "0           7051458        80130       87.079           7000000        80387  \n",
       "1           7021251        69517      100.560           7000000        69610  \n",
       "2           7016814        66196      105.630           7000000        66269  \n",
       "3           7024622        53217      131.330           7000000        53301  "
      ]
     },
     "execution_count": 20,
     "metadata": {},
     "output_type": "execute_result"
    }
   ],
   "source": [
    "file_name = 'Tabla.csv'\n",
    "data = pd.read_csv(file_name)\n",
    "data"
   ]
  },
  {
   "cell_type": "markdown",
   "metadata": {},
   "source": [
    "- IS=Interés simple\n",
    "- IC=Interés compuesto\n",
    "- CC=Capitalización por interés continuo"
   ]
  },
  {
   "cell_type": "markdown",
   "metadata": {},
   "source": [
    "***Tras analizar sus diferentes fondos y el rendimiento que genera cada uno de ellos, el decide que el mejor es VECTUSD ya sea por interés compuesto o capitalización continua pues en el logra su meta en menores periodos y con un promedio de rendimiento por periodo mayor.***"
   ]
  },
  {
   "cell_type": "markdown",
   "metadata": {},
   "source": [
    "Una vez que sabemos que su mejor opción es el fondo VECTUSD mediante la capitalización continua, Juan quiere lograr dicho rendimiento en 5 años tomando las características del mismo, ¿Que tanto debe variar su capital inicial para lograrlo?"
   ]
  },
  {
   "cell_type": "code",
   "execution_count": 21,
   "metadata": {},
   "outputs": [
    {
     "name": "stdout",
     "output_type": "stream",
     "text": [
      "El monto inicial requerido por capitalización simple es de 4731328.15\n"
     ]
    }
   ],
   "source": [
    "#Para interés simple\n",
    "c_final=7000000\n",
    "i=.0959/12\n",
    "k = 5*12\n",
    "\n",
    "c0 = c_final/(1+k*i)\n",
    "c0 = round(c0,2)\n",
    "\n",
    "print(\"El monto inicial requerido por capitalización simple es de\",c0)"
   ]
  },
  {
   "cell_type": "code",
   "execution_count": 22,
   "metadata": {},
   "outputs": [
    {
     "name": "stdout",
     "output_type": "stream",
     "text": [
      "El monto inicial requerido por capitalización compuesta es de 4341917.21\n"
     ]
    }
   ],
   "source": [
    "#Para interés compuesto\n",
    "c_final=7000000\n",
    "i=.0959/12\n",
    "k = 5*12\n",
    "\n",
    "c0 = c_final/(1+i)**k\n",
    "c0 = round(c0,2)\n",
    "\n",
    "print(\"El monto inicial requerido por capitalización compuesta es de\",c0)"
   ]
  },
  {
   "cell_type": "code",
   "execution_count": 23,
   "metadata": {},
   "outputs": [
    {
     "data": {
      "application/vnd.jupyter.widget-view+json": {
       "model_id": "cc43cbe26d08486b98ba21193efb175d",
       "version_major": 2,
       "version_minor": 0
      },
      "text/plain": [
       "interactive(children=(IntSlider(value=4250000, description='C_0', max=5000000, min=3500000, step=1000), Button…"
      ]
     },
     "metadata": {},
     "output_type": "display_data"
    }
   ],
   "source": [
    "#Para interés continuo compuesto\n",
    "i=0.0959/12\n",
    "def interes_continuo(C_0, meta, r):\n",
    "    # Despejamos t\n",
    "    t=np.log(meta/C_0)/r\n",
    "    # Vector de periodos\n",
    "    tt=np.linspace(0,t,100)\n",
    "    # Vector de capitales por periodo\n",
    "    CC=odeint(cap_continuo,C_0,tt,args=(r,))\n",
    "    # Gráfico\n",
    "    plt.figure(num=1); plt.clf()                # Figura 1, borrar lo que contenga\n",
    "    plt.plot(tt, CC,'-',linewidth=3.0)          # Se grafica la evolución de los capitales\n",
    "    plt.plot(tt,meta*np.ones(len(tt)),'--k')    # Se grafica la meta\n",
    "    plt.xlabel('t')                             # Etiqueta eje x\n",
    "    plt.ylabel('C(t)')                          # Etiqueta eje y\n",
    "    plt.grid(True)                              # Malla en la gráfica\n",
    "    plt.show()                                  # Mostrar la figura\n",
    "    print(\"Con el monto inicial de \", C_0, \" se llega a la meta de \", meta,\" en aproximadamente \", t, \" meses.\", sep=\"\")\n",
    "    \n",
    "interact_manual(interes_continuo, C_0=(3500000,5000000,1000), meta=fixed(7000000), r=fixed(np.log(1+i)));"
   ]
  },
  {
   "cell_type": "markdown",
   "metadata": {},
   "source": [
    "En la gráfica interactiva pasada, se puede experimentar como llegar a la meta de 7,000,000 con variaciones del monto inicial y su respectivo tiempo. Para lograr la meta en un plazo de 5 años, el monto inicial debe de ser de aproximadamente 4,340,000."
   ]
  },
  {
   "cell_type": "markdown",
   "metadata": {},
   "source": [
    "### Conclusiones"
   ]
  },
  {
   "cell_type": "markdown",
   "metadata": {},
   "source": [
    "> Gracias a este proyecto, pudimos poner en práctica conceptos directamente relacionados con nuestra carrera y aplicar estos momentos en diversos casos de utilidad en nuestro día a día, pudimos observar que el interés compuesto y la capitalización continua son muy similares, solo varia que en el compuesto, el capital te da un poco mas de la meta, es decir hasta que sobrepasa esta misma, mientras que en la capitalización continua te dice dice exactamente el instante del periodo donde se cumple dicha meta, y el capital final es exactamente igual a la condición de rendimiento de 7 millones, duplicando así su capital inicial. Al tener una idea visual mas clara del comportamiento de cada fondo de inversión y el rendimiento que generaba cada uno con el mismo capital inicial y meta donde solo variaba la tasa de cada uno, nos ayuda a apreciar mejor como cambia y varia en diversos instantes. Al querer lograr el mismo rendimiento de duplicar el capital inicial en menor tiempo con el fondo de inversión VECTUSD(mejor tasa), el capital inicial debe cambiar pues se acorta el tiempo por casi año y medio. Es una manera interesante de optimizar mediante la simulación matemática procesos que estaremos viendo a lo largo de este proceso estudiantil y sus múltiples aplicaciones.\n"
   ]
  },
  {
   "cell_type": "markdown",
   "metadata": {},
   "source": [
    "### Referencias:"
   ]
  },
  {
   "cell_type": "markdown",
   "metadata": {},
   "source": [
    "Todos los datos fueron obtenidos de: Rankia México . (2019). Mejores fondos de inversión para 2019 . 16-7-19, de Rankia SL Sitio web: https://www.rankia.mx/blog/fondos-de-inversion-mexico/3081914-mejores-fondos-inversion-para-2019"
   ]
  }
 ],
 "metadata": {
  "kernelspec": {
   "display_name": "Python 3",
   "language": "python",
   "name": "python3"
  },
  "language_info": {
   "codemirror_mode": {
    "name": "ipython",
    "version": 3
   },
   "file_extension": ".py",
   "mimetype": "text/x-python",
   "name": "python",
   "nbconvert_exporter": "python",
   "pygments_lexer": "ipython3",
   "version": "3.7.3"
  }
 },
 "nbformat": 4,
 "nbformat_minor": 2
}
